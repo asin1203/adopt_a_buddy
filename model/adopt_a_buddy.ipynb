{
  "nbformat": 4,
  "nbformat_minor": 0,
  "metadata": {
    "colab": {
      "name": "adopt_a_buddy.ipynb",
      "provenance": [],
      "collapsed_sections": []
    },
    "kernelspec": {
      "name": "python3",
      "display_name": "Python 3"
    }
  },
  "cells": [
    {
      "cell_type": "code",
      "metadata": {
        "id": "Ad-6dMwFokGP"
      },
      "source": [
        "import numpy as np\n",
        "import pandas as pd\n",
        "import datetime\n",
        "import matplotlib.pyplot as plt\n",
        "import seaborn as sns"
      ],
      "execution_count": null,
      "outputs": []
    },
    {
      "cell_type": "code",
      "metadata": {
        "id": "PTVtPDuRpbbZ"
      },
      "source": [
        "train = pd.read_csv('/train.csv')"
      ],
      "execution_count": null,
      "outputs": []
    },
    {
      "cell_type": "code",
      "metadata": {
        "id": "9riUXS2Ip2QH"
      },
      "source": [
        "train_data=train.drop(\"pet_id\",axis=1)"
      ],
      "execution_count": null,
      "outputs": []
    },
    {
      "cell_type": "code",
      "metadata": {
        "id": "ncBekRqxp27w"
      },
      "source": [
        "train_data[\"condition\"]=train_data[\"condition\"].fillna(-1)\n",
        "train_data['issue_date']=pd.to_datetime(train_data['issue_date'])\n",
        "train_data['listing_date']=pd.to_datetime(train_data['listing_date'])"
      ],
      "execution_count": null,
      "outputs": []
    },
    {
      "cell_type": "code",
      "metadata": {
        "id": "R0LOG0kcs1rO"
      },
      "source": [
        "x=[]\n",
        "for d in train_data['listing_date']:\n",
        "    y=d.year+(d.month/12.0)+(d.day/365.0)\n",
        "    x.append(y)\n",
        "train_data['modified_listing_date']=x"
      ],
      "execution_count": null,
      "outputs": []
    },
    {
      "cell_type": "code",
      "metadata": {
        "id": "cPkqPEuKN7rw"
      },
      "source": [
        "x=[]\n",
        "for d in train_data['issue_date']:\n",
        "    y=d.year+(d.month/12.0)+(d.day/365.0)\n",
        "    x.append(y)\n",
        "train_data['modified_issue_date']=x"
      ],
      "execution_count": null,
      "outputs": []
    },
    {
      "cell_type": "code",
      "metadata": {
        "id": "VbxwhQvPN8SZ"
      },
      "source": [
        "train_data['gap_days(years)']=abs(train_data['modified_listing_date']-train_data['modified_issue_date'])"
      ],
      "execution_count": null,
      "outputs": []
    },
    {
      "cell_type": "code",
      "metadata": {
        "id": "vn6SqMl4BMgM"
      },
      "source": [
        "train_data=train_data.drop(['issue_date','listing_date','modified_listing_date','modified_issue_date'],axis=1)"
      ],
      "execution_count": null,
      "outputs": []
    },
    {
      "cell_type": "code",
      "metadata": {
        "id": "CPu99ZfPtAos",
        "outputId": "0b0cd199-5b9e-4733-b088-9aa9183fddbb",
        "colab": {
          "base_uri": "https://localhost:8080/",
          "height": 97
        }
      },
      "source": [
        "from sklearn import preprocessing \n",
        "label_encoder = preprocessing.LabelEncoder() \n",
        "train_data['color_type']= label_encoder.fit_transform(train_data['color_type']) \n",
        "train_data.sample()"
      ],
      "execution_count": null,
      "outputs": [
        {
          "output_type": "execute_result",
          "data": {
            "text/html": [
              "<div>\n",
              "<style scoped>\n",
              "    .dataframe tbody tr th:only-of-type {\n",
              "        vertical-align: middle;\n",
              "    }\n",
              "\n",
              "    .dataframe tbody tr th {\n",
              "        vertical-align: top;\n",
              "    }\n",
              "\n",
              "    .dataframe thead th {\n",
              "        text-align: right;\n",
              "    }\n",
              "</style>\n",
              "<table border=\"1\" class=\"dataframe\">\n",
              "  <thead>\n",
              "    <tr style=\"text-align: right;\">\n",
              "      <th></th>\n",
              "      <th>condition</th>\n",
              "      <th>color_type</th>\n",
              "      <th>length(m)</th>\n",
              "      <th>height(cm)</th>\n",
              "      <th>X1</th>\n",
              "      <th>X2</th>\n",
              "      <th>breed_category</th>\n",
              "      <th>pet_category</th>\n",
              "      <th>gap_days(years)</th>\n",
              "    </tr>\n",
              "  </thead>\n",
              "  <tbody>\n",
              "    <tr>\n",
              "      <th>17389</th>\n",
              "      <td>2.0</td>\n",
              "      <td>7</td>\n",
              "      <td>0.85</td>\n",
              "      <td>45.15</td>\n",
              "      <td>0</td>\n",
              "      <td>7</td>\n",
              "      <td>0.0</td>\n",
              "      <td>2</td>\n",
              "      <td>4.702283</td>\n",
              "    </tr>\n",
              "  </tbody>\n",
              "</table>\n",
              "</div>"
            ],
            "text/plain": [
              "       condition  color_type  ...  pet_category  gap_days(years)\n",
              "17389        2.0           7  ...             2         4.702283\n",
              "\n",
              "[1 rows x 9 columns]"
            ]
          },
          "metadata": {
            "tags": []
          },
          "execution_count": 87
        }
      ]
    },
    {
      "cell_type": "code",
      "metadata": {
        "id": "_A4quIESwMp6"
      },
      "source": [
        "y=train_data['pet_category']\n",
        "x = train_data.drop(['pet_category'],axis = 1)"
      ],
      "execution_count": null,
      "outputs": []
    },
    {
      "cell_type": "code",
      "metadata": {
        "id": "FRKyWqAvw0Xp"
      },
      "source": [
        "from sklearn.model_selection import train_test_split\n",
        "x_train, x_test, y_train, y_test = train_test_split(x, y,  test_size=0.2,random_state=0)"
      ],
      "execution_count": null,
      "outputs": []
    },
    {
      "cell_type": "code",
      "metadata": {
        "id": "2JulUJ-lM8Fn",
        "outputId": "15acb867-ecc2-4f60-84c9-ab48b38c6037",
        "colab": {
          "base_uri": "https://localhost:8080/",
          "height": 134
        }
      },
      "source": [
        "from xgboost import XGBClassifier\n",
        "xbg = XGBClassifier()\n",
        "xbg.fit(x_train, y_train)"
      ],
      "execution_count": null,
      "outputs": [
        {
          "output_type": "execute_result",
          "data": {
            "text/plain": [
              "XGBClassifier(base_score=0.5, booster='gbtree', colsample_bylevel=1,\n",
              "              colsample_bynode=1, colsample_bytree=1, gamma=0,\n",
              "              learning_rate=0.1, max_delta_step=0, max_depth=3,\n",
              "              min_child_weight=1, missing=None, n_estimators=100, n_jobs=1,\n",
              "              nthread=None, objective='multi:softprob', random_state=0,\n",
              "              reg_alpha=0, reg_lambda=1, scale_pos_weight=1, seed=None,\n",
              "              silent=None, subsample=1, verbosity=1)"
            ]
          },
          "metadata": {
            "tags": []
          },
          "execution_count": 90
        }
      ]
    },
    {
      "cell_type": "code",
      "metadata": {
        "id": "IcQJykSC_ASr",
        "outputId": "3f693dc1-755b-4d9a-e976-9bcc246db47a",
        "colab": {
          "base_uri": "https://localhost:8080/",
          "height": 34
        }
      },
      "source": [
        "xbg.predict(x_test)"
      ],
      "execution_count": null,
      "outputs": [
        {
          "output_type": "execute_result",
          "data": {
            "text/plain": [
              "array([2, 2, 1, ..., 2, 1, 4])"
            ]
          },
          "metadata": {
            "tags": []
          },
          "execution_count": 91
        }
      ]
    },
    {
      "cell_type": "code",
      "metadata": {
        "id": "Jnn2P2-TyoVq"
      },
      "source": [
        "import pickle\n",
        "import xgboost"
      ],
      "execution_count": null,
      "outputs": []
    },
    {
      "cell_type": "code",
      "metadata": {
        "id": "Bkd7ZZ99yqoZ"
      },
      "source": [
        "with open('model.pkl','wb') as f:\n",
        " pickle.dump(xbg,f)"
      ],
      "execution_count": null,
      "outputs": []
    },
    {
      "cell_type": "code",
      "metadata": {
        "id": "GlXiVDS2Cpka"
      },
      "source": [
        "with open('model.pkl','rb') as f:\n",
        "  mp=pickle.load(f)\n",
        "  mp.predict(x_test)"
      ],
      "execution_count": null,
      "outputs": []
    },
    {
      "cell_type": "code",
      "metadata": {
        "id": "Oe4KexYOIenK"
      },
      "source": [
        "mp._Booster.save_model('your_model_binary.model')"
      ],
      "execution_count": null,
      "outputs": []
    }
  ]
}